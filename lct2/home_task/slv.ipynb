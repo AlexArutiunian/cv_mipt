{
 "cells": [
  {
   "cell_type": "code",
   "execution_count": null,
   "metadata": {},
   "outputs": [],
   "source": [
    "!wget -O black_objects.mp4 https://github.com/StarkitRobots/cvr2024/blob/main/home_assignments/ha1/black_objects.mp4"
   ]
  },
  {
   "cell_type": "markdown",
   "metadata": {},
   "source": [
    "wget НЕ работает я не знаю и не нашел решения, как быстро и удобно через терминал скачать конкретный файл из репозитория?"
   ]
  },
  {
   "cell_type": "markdown",
   "metadata": {},
   "source": [
    "Я сделал задачу детектировать заданный обьект на видео так:\n",
    "сначала составил маску для скрина первых кадров виде с помощью способа HSV трек баров, \n",
    "который разобрали на семинаре, и применил эту маску для входного потока - исходного видео,\n",
    "на котором нужно было детектировать ssd (маленький черный по центру)"
   ]
  },
  {
   "cell_type": "code",
   "execution_count": null,
   "metadata": {},
   "outputs": [],
   "source": [
    "import numpy as np\n",
    "import cv2\n",
    "\n",
    "def detect_objects(frame, lower_black, upper_black, min_size, max_size):\n",
    "    answer = []\n",
    "    \n",
    "    hsv = cv2.cvtColor(frame, cv2.COLOR_BGR2HSV)\n",
    "    \n",
    "    mask = cv2.inRange(hsv, lower_black, upper_black)\n",
    "    \n",
    "    contours, _ = cv2.findContours(mask, cv2.RETR_EXTERNAL, cv2.CHAIN_APPROX_SIMPLE)\n",
    "    \n",
    "    for cnt in contours:\n",
    "        x, y, w, h = cv2.boundingRect(cnt)\n",
    "        area = w * h\n",
    "        \n",
    "        # limits on size of detected object\n",
    "         \n",
    "        if area >= min_size and area <= max_size:\n",
    "            answer.append((x, y, w, h))\n",
    "    \n",
    "    return answer\n",
    "\n",
    "def draw_answer(frame, bboxes):\n",
    "    for b in bboxes:\n",
    "        l, t, w, h = b\n",
    "        \n",
    "        cv2.rectangle(frame, (l, t), (l + w, t + h), (123, 34, 125), 3)\n",
    "    \n",
    "    return frame\n",
    "\n",
    "answers = []\n",
    "\n",
    "video_name = \"home_task/black_objects.mp4\"\n",
    "\n",
    "cam = cv2.VideoCapture(video_name)\n",
    "\n",
    "cv2.namedWindow(\"mask\", cv2.WINDOW_NORMAL)\n",
    "cv2.resizeWindow(\"mask\", 600, 900)\n",
    "\n",
    "cv2.createTrackbar(\"hb\", \"mask\", 128, 255, lambda i: 1)\n",
    "cv2.createTrackbar(\"lb\", \"mask\", 93, 255, lambda i: 1)\n",
    "cv2.createTrackbar(\"hg\", \"mask\", 178, 255, lambda i: 1)\n",
    "cv2.createTrackbar(\"lg\", \"mask\", 108, 255, lambda i: 1)\n",
    "cv2.createTrackbar(\"hr\", \"mask\", 77, 255, lambda i: 1)\n",
    "cv2.createTrackbar(\"lr\", \"mask\", 50, 255, lambda i: 1)\n",
    "# Трекбар для минимального размера детектируемого объекта    \n",
    "cv2.createTrackbar(\"min_size\", \"mask\", 4001, 5000, lambda i: 1)  \n",
    "# Трекбар для максимального размера детектируемого объекта\n",
    "cv2.createTrackbar(\"max_size\", \"mask\", 8004, 10000, lambda i: 1) \n",
    "\n",
    "while(True):\n",
    "    succ, frame = cam.read()\n",
    "    \n",
    "    if not succ:\n",
    "        print(\"не удалось считать кадр, выход\")\n",
    "        break\n",
    "    \n",
    "    hb = cv2.getTrackbarPos(\"hb\", \"mask\")\n",
    "    lb = cv2.getTrackbarPos(\"lb\", \"mask\")\n",
    "    hg = cv2.getTrackbarPos(\"hg\", \"mask\")\n",
    "    lg = cv2.getTrackbarPos(\"lg\", \"mask\")\n",
    "    hr = cv2.getTrackbarPos(\"hr\", \"mask\")\n",
    "    lr = cv2.getTrackbarPos(\"lr\", \"mask\")\n",
    "    min_size = cv2.getTrackbarPos(\"min_size\", \"mask\")\n",
    "    max_size = cv2.getTrackbarPos(\"max_size\", \"mask\")\n",
    "    \n",
    "    lower_black = np.array([lb, lg, lr])\n",
    "    upper_black = np.array([hb, hg, hr])\n",
    "    \n",
    "    answer = detect_objects(frame, lower_black, upper_black, min_size, max_size)\n",
    "    answers.append(answer)\n",
    "    \n",
    "    marked = draw_answer(frame, answer)\n",
    "    \n",
    "    cv2.imshow(\"result\", marked)\n",
    "    \n",
    "    key = cv2.waitKey(30) & 0xFF\n",
    "    \n",
    "    if key == ord('q'):\n",
    "        break\n",
    "\n",
    "cam.release()\n",
    "cv2.destroyAllWindows()"
   ]
  }
 ],
 "metadata": {
  "kernelspec": {
   "display_name": "Python 3",
   "language": "python",
   "name": "python3"
  },
  "language_info": {
   "codemirror_mode": {
    "name": "ipython",
    "version": 3
   },
   "file_extension": ".py",
   "mimetype": "text/x-python",
   "name": "python",
   "nbconvert_exporter": "python",
   "pygments_lexer": "ipython3",
   "version": "3.10.2"
  }
 },
 "nbformat": 4,
 "nbformat_minor": 2
}
